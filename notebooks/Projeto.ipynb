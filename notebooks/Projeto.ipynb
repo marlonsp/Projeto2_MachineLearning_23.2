{
 "cells": [
  {
   "cell_type": "code",
   "execution_count": 46,
   "metadata": {},
   "outputs": [],
   "source": [
    "import pathlib\n",
    "import pickle\n",
    "import requests\n",
    "import zipfile\n",
    "import io\n",
    "\n",
    "import pandas as pd"
   ]
  },
  {
   "cell_type": "code",
   "execution_count": 47,
   "metadata": {},
   "outputs": [
    {
     "name": "stdout",
     "output_type": "stream",
     "text": [
      "c:\\Users\\Marlon\\Desktop\\6_Semestre\\ML\\Projeto2_MachineLearning_23.2\\data\n"
     ]
    }
   ],
   "source": [
    "DATA_DIR = pathlib.Path.cwd().parent / 'data'\n",
    "print(DATA_DIR)"
   ]
  },
  {
   "cell_type": "code",
   "execution_count": 48,
   "metadata": {},
   "outputs": [],
   "source": [
    "DATA_DIR.mkdir(parents=True, exist_ok=True)"
   ]
  },
  {
   "cell_type": "code",
   "execution_count": 49,
   "metadata": {},
   "outputs": [
    {
     "name": "stdout",
     "output_type": "stream",
     "text": [
      "c:\\Users\\Marlon\\Desktop\\6_Semestre\\ML\\Projeto2_MachineLearning_23.2\\data\\raw\n"
     ]
    }
   ],
   "source": [
    "raw_data_dir = DATA_DIR / 'raw'\n",
    "raw_data_dir.mkdir(parents=True, exist_ok=True)\n",
    "print(raw_data_dir)"
   ]
  },
  {
   "cell_type": "code",
   "execution_count": 50,
   "metadata": {},
   "outputs": [
    {
     "name": "stdout",
     "output_type": "stream",
     "text": [
      "c:\\Users\\Marlon\\Desktop\\6_Semestre\\ML\\Projeto2_MachineLearning_23.2\\data\\raw\\glaucoma_dataset.csv\n"
     ]
    }
   ],
   "source": [
    "raw_data_file_path = DATA_DIR / 'raw' / 'glaucoma_dataset.csv'\n",
    "print(raw_data_file_path)"
   ]
  },
  {
   "cell_type": "code",
   "execution_count": 51,
   "metadata": {},
   "outputs": [
    {
     "name": "stdout",
     "output_type": "stream",
     "text": [
      "This file has 3380533 bytes\n"
     ]
    }
   ],
   "source": [
    "filesize = raw_data_file_path.stat().st_size\n",
    "print(f'This file has {filesize} bytes')"
   ]
  },
  {
   "cell_type": "code",
   "execution_count": 52,
   "metadata": {},
   "outputs": [],
   "source": [
    "raw_data = pd.read_csv(raw_data_file_path)"
   ]
  },
  {
   "cell_type": "code",
   "execution_count": 53,
   "metadata": {},
   "outputs": [
    {
     "data": {
      "text/plain": [
       "(10000, 17)"
      ]
     },
     "execution_count": 53,
     "metadata": {},
     "output_type": "execute_result"
    }
   ],
   "source": [
    "raw_data.shape"
   ]
  },
  {
   "cell_type": "code",
   "execution_count": 54,
   "metadata": {},
   "outputs": [
    {
     "data": {
      "text/html": [
       "<div>\n",
       "<style scoped>\n",
       "    .dataframe tbody tr th:only-of-type {\n",
       "        vertical-align: middle;\n",
       "    }\n",
       "\n",
       "    .dataframe tbody tr th {\n",
       "        vertical-align: top;\n",
       "    }\n",
       "\n",
       "    .dataframe thead th {\n",
       "        text-align: right;\n",
       "    }\n",
       "</style>\n",
       "<table border=\"1\" class=\"dataframe\">\n",
       "  <thead>\n",
       "    <tr style=\"text-align: right;\">\n",
       "      <th></th>\n",
       "      <th>Patient ID</th>\n",
       "      <th>Age</th>\n",
       "      <th>Gender</th>\n",
       "      <th>Visual Acuity Measurements</th>\n",
       "      <th>Intraocular Pressure (IOP)</th>\n",
       "      <th>Cup-to-Disc Ratio (CDR)</th>\n",
       "      <th>Family History</th>\n",
       "      <th>Medical History</th>\n",
       "      <th>Medication Usage</th>\n",
       "      <th>Visual Field Test Results</th>\n",
       "      <th>Optical Coherence Tomography (OCT) Results</th>\n",
       "      <th>Pachymetry</th>\n",
       "      <th>Cataract Status</th>\n",
       "      <th>Angle Closure Status</th>\n",
       "      <th>Visual Symptoms</th>\n",
       "      <th>Diagnosis</th>\n",
       "      <th>Glaucoma Type</th>\n",
       "    </tr>\n",
       "  </thead>\n",
       "  <tbody>\n",
       "    <tr>\n",
       "      <th>0</th>\n",
       "      <td>62431</td>\n",
       "      <td>69</td>\n",
       "      <td>Male</td>\n",
       "      <td>LogMAR 0.1</td>\n",
       "      <td>19.46</td>\n",
       "      <td>0.42</td>\n",
       "      <td>No</td>\n",
       "      <td>Diabetes</td>\n",
       "      <td>Amoxicillin, Lisinopril, Omeprazole, Atorvasta...</td>\n",
       "      <td>Sensitivity: 0.54, Specificity: 0.75</td>\n",
       "      <td>RNFL Thickness: 86.48 µm, GCC Thickness: 64.14...</td>\n",
       "      <td>541.51</td>\n",
       "      <td>Present</td>\n",
       "      <td>Open</td>\n",
       "      <td>Tunnel vision, Eye pain, Nausea</td>\n",
       "      <td>No Glaucoma</td>\n",
       "      <td>Primary Open-Angle Glaucoma</td>\n",
       "    </tr>\n",
       "    <tr>\n",
       "      <th>1</th>\n",
       "      <td>68125</td>\n",
       "      <td>69</td>\n",
       "      <td>Female</td>\n",
       "      <td>LogMAR 0.1</td>\n",
       "      <td>18.39</td>\n",
       "      <td>0.72</td>\n",
       "      <td>No</td>\n",
       "      <td>Hypertension</td>\n",
       "      <td>Lisinopril, Amoxicillin, Atorvastatin, Ibuprof...</td>\n",
       "      <td>Sensitivity: 0.72, Specificity: 0.88</td>\n",
       "      <td>RNFL Thickness: 96.88 µm, GCC Thickness: 56.48...</td>\n",
       "      <td>552.77</td>\n",
       "      <td>Absent</td>\n",
       "      <td>Open</td>\n",
       "      <td>Redness in the eye, Vision loss, Tunnel vision</td>\n",
       "      <td>No Glaucoma</td>\n",
       "      <td>Juvenile Glaucoma</td>\n",
       "    </tr>\n",
       "    <tr>\n",
       "      <th>2</th>\n",
       "      <td>63329</td>\n",
       "      <td>67</td>\n",
       "      <td>Female</td>\n",
       "      <td>20/40</td>\n",
       "      <td>23.65</td>\n",
       "      <td>0.72</td>\n",
       "      <td>No</td>\n",
       "      <td>Hypertension</td>\n",
       "      <td>Amoxicillin, Ibuprofen, Metformin, Atorvastati...</td>\n",
       "      <td>Sensitivity: 0.56, Specificity: 0.8</td>\n",
       "      <td>RNFL Thickness: 89.81 µm, GCC Thickness: 59.05...</td>\n",
       "      <td>573.65</td>\n",
       "      <td>Absent</td>\n",
       "      <td>Closed</td>\n",
       "      <td>Halos around lights, Vision loss, Redness in t...</td>\n",
       "      <td>No Glaucoma</td>\n",
       "      <td>Juvenile Glaucoma</td>\n",
       "    </tr>\n",
       "    <tr>\n",
       "      <th>3</th>\n",
       "      <td>47174</td>\n",
       "      <td>23</td>\n",
       "      <td>Male</td>\n",
       "      <td>LogMAR 0.0</td>\n",
       "      <td>18.04</td>\n",
       "      <td>0.61</td>\n",
       "      <td>No</td>\n",
       "      <td>NaN</td>\n",
       "      <td>Ibuprofen, Aspirin</td>\n",
       "      <td>Sensitivity: 0.6, Specificity: 0.93</td>\n",
       "      <td>RNFL Thickness: 87.25 µm, GCC Thickness: 63.98...</td>\n",
       "      <td>590.67</td>\n",
       "      <td>Absent</td>\n",
       "      <td>Closed</td>\n",
       "      <td>Nausea, Nausea, Halos around lights</td>\n",
       "      <td>No Glaucoma</td>\n",
       "      <td>Congenital Glaucoma</td>\n",
       "    </tr>\n",
       "    <tr>\n",
       "      <th>4</th>\n",
       "      <td>67361</td>\n",
       "      <td>21</td>\n",
       "      <td>Male</td>\n",
       "      <td>LogMAR 0.1</td>\n",
       "      <td>15.87</td>\n",
       "      <td>0.30</td>\n",
       "      <td>No</td>\n",
       "      <td>Diabetes</td>\n",
       "      <td>Amoxicillin, Omeprazole, Aspirin, Ibuprofen, A...</td>\n",
       "      <td>Sensitivity: 0.82, Specificity: 0.9</td>\n",
       "      <td>RNFL Thickness: 82.61 µm, GCC Thickness: 66.01...</td>\n",
       "      <td>588.41</td>\n",
       "      <td>Absent</td>\n",
       "      <td>Closed</td>\n",
       "      <td>Eye pain, Eye pain, Tunnel vision</td>\n",
       "      <td>No Glaucoma</td>\n",
       "      <td>Primary Open-Angle Glaucoma</td>\n",
       "    </tr>\n",
       "  </tbody>\n",
       "</table>\n",
       "</div>"
      ],
      "text/plain": [
       "   Patient ID  Age  Gender Visual Acuity Measurements  \\\n",
       "0       62431   69    Male                 LogMAR 0.1   \n",
       "1       68125   69  Female                 LogMAR 0.1   \n",
       "2       63329   67  Female                      20/40   \n",
       "3       47174   23    Male                 LogMAR 0.0   \n",
       "4       67361   21    Male                 LogMAR 0.1   \n",
       "\n",
       "   Intraocular Pressure (IOP)  Cup-to-Disc Ratio (CDR) Family History  \\\n",
       "0                       19.46                     0.42             No   \n",
       "1                       18.39                     0.72             No   \n",
       "2                       23.65                     0.72             No   \n",
       "3                       18.04                     0.61             No   \n",
       "4                       15.87                     0.30             No   \n",
       "\n",
       "  Medical History                                   Medication Usage  \\\n",
       "0        Diabetes  Amoxicillin, Lisinopril, Omeprazole, Atorvasta...   \n",
       "1    Hypertension  Lisinopril, Amoxicillin, Atorvastatin, Ibuprof...   \n",
       "2    Hypertension  Amoxicillin, Ibuprofen, Metformin, Atorvastati...   \n",
       "3             NaN                                 Ibuprofen, Aspirin   \n",
       "4        Diabetes  Amoxicillin, Omeprazole, Aspirin, Ibuprofen, A...   \n",
       "\n",
       "              Visual Field Test Results  \\\n",
       "0  Sensitivity: 0.54, Specificity: 0.75   \n",
       "1  Sensitivity: 0.72, Specificity: 0.88   \n",
       "2   Sensitivity: 0.56, Specificity: 0.8   \n",
       "3   Sensitivity: 0.6, Specificity: 0.93   \n",
       "4   Sensitivity: 0.82, Specificity: 0.9   \n",
       "\n",
       "          Optical Coherence Tomography (OCT) Results  Pachymetry  \\\n",
       "0  RNFL Thickness: 86.48 µm, GCC Thickness: 64.14...      541.51   \n",
       "1  RNFL Thickness: 96.88 µm, GCC Thickness: 56.48...      552.77   \n",
       "2  RNFL Thickness: 89.81 µm, GCC Thickness: 59.05...      573.65   \n",
       "3  RNFL Thickness: 87.25 µm, GCC Thickness: 63.98...      590.67   \n",
       "4  RNFL Thickness: 82.61 µm, GCC Thickness: 66.01...      588.41   \n",
       "\n",
       "  Cataract Status Angle Closure Status  \\\n",
       "0         Present                 Open   \n",
       "1          Absent                 Open   \n",
       "2          Absent               Closed   \n",
       "3          Absent               Closed   \n",
       "4          Absent               Closed   \n",
       "\n",
       "                                     Visual Symptoms    Diagnosis  \\\n",
       "0                    Tunnel vision, Eye pain, Nausea  No Glaucoma   \n",
       "1     Redness in the eye, Vision loss, Tunnel vision  No Glaucoma   \n",
       "2  Halos around lights, Vision loss, Redness in t...  No Glaucoma   \n",
       "3                Nausea, Nausea, Halos around lights  No Glaucoma   \n",
       "4                  Eye pain, Eye pain, Tunnel vision  No Glaucoma   \n",
       "\n",
       "                 Glaucoma Type  \n",
       "0  Primary Open-Angle Glaucoma  \n",
       "1            Juvenile Glaucoma  \n",
       "2            Juvenile Glaucoma  \n",
       "3          Congenital Glaucoma  \n",
       "4  Primary Open-Angle Glaucoma  "
      ]
     },
     "execution_count": 54,
     "metadata": {},
     "output_type": "execute_result"
    }
   ],
   "source": [
    "raw_data.head()"
   ]
  },
  {
   "cell_type": "code",
   "execution_count": 55,
   "metadata": {},
   "outputs": [],
   "source": [
    "data = raw_data.copy()"
   ]
  },
  {
   "cell_type": "code",
   "execution_count": 56,
   "metadata": {},
   "outputs": [
    {
     "name": "stdout",
     "output_type": "stream",
     "text": [
      "<class 'pandas.core.frame.DataFrame'>\n",
      "RangeIndex: 10000 entries, 0 to 9999\n",
      "Data columns (total 17 columns):\n",
      " #   Column                                      Non-Null Count  Dtype  \n",
      "---  ------                                      --------------  -----  \n",
      " 0   Patient ID                                  10000 non-null  int64  \n",
      " 1   Age                                         10000 non-null  int64  \n",
      " 2   Gender                                      10000 non-null  object \n",
      " 3   Visual Acuity Measurements                  10000 non-null  object \n",
      " 4   Intraocular Pressure (IOP)                  10000 non-null  float64\n",
      " 5   Cup-to-Disc Ratio (CDR)                     10000 non-null  float64\n",
      " 6   Family History                              10000 non-null  object \n",
      " 7   Medical History                             7453 non-null   object \n",
      " 8   Medication Usage                            8769 non-null   object \n",
      " 9   Visual Field Test Results                   10000 non-null  object \n",
      " 10  Optical Coherence Tomography (OCT) Results  10000 non-null  object \n",
      " 11  Pachymetry                                  10000 non-null  float64\n",
      " 12  Cataract Status                             10000 non-null  object \n",
      " 13  Angle Closure Status                        10000 non-null  object \n",
      " 14  Visual Symptoms                             10000 non-null  object \n",
      " 15  Diagnosis                                   10000 non-null  object \n",
      " 16  Glaucoma Type                               10000 non-null  object \n",
      "dtypes: float64(3), int64(2), object(12)\n",
      "memory usage: 1.3+ MB\n"
     ]
    }
   ],
   "source": [
    "data.info()"
   ]
  },
  {
   "cell_type": "code",
   "execution_count": 57,
   "metadata": {},
   "outputs": [
    {
     "data": {
      "text/plain": [
       "object     12\n",
       "float64     3\n",
       "int64       2\n",
       "Name: count, dtype: int64"
      ]
     },
     "execution_count": 57,
     "metadata": {},
     "output_type": "execute_result"
    }
   ],
   "source": [
    "data.dtypes.value_counts()"
   ]
  },
  {
   "cell_type": "code",
   "execution_count": 58,
   "metadata": {},
   "outputs": [],
   "source": [
    "medications = set()\n",
    "for item in data['Medication Usage']:\n",
    "    try:\n",
    "        medications.update(item.split(', '))\n",
    "    except AttributeError:\n",
    "        pass\n"
   ]
  },
  {
   "cell_type": "code",
   "execution_count": 59,
   "metadata": {},
   "outputs": [
    {
     "data": {
      "text/plain": [
       "{'Amoxicillin',\n",
       " 'Aspirin',\n",
       " 'Atorvastatin',\n",
       " 'Ibuprofen',\n",
       " 'Lisinopril',\n",
       " 'Metformin',\n",
       " 'Omeprazole'}"
      ]
     },
     "execution_count": 59,
     "metadata": {},
     "output_type": "execute_result"
    }
   ],
   "source": [
    "medications"
   ]
  },
  {
   "cell_type": "code",
   "execution_count": 60,
   "metadata": {},
   "outputs": [],
   "source": [
    "medical_history = set()\n",
    "for item in data['Medical History']:\n",
    "    try:\n",
    "        medical_history.update(item.split(', '))\n",
    "    except AttributeError:\n",
    "        pass"
   ]
  },
  {
   "cell_type": "code",
   "execution_count": 61,
   "metadata": {},
   "outputs": [
    {
     "data": {
      "text/plain": [
       "{'Diabetes', 'Glaucoma in family', 'Hypertension'}"
      ]
     },
     "execution_count": 61,
     "metadata": {},
     "output_type": "execute_result"
    }
   ],
   "source": [
    "medical_history"
   ]
  },
  {
   "cell_type": "markdown",
   "metadata": {},
   "source": [
    "Trocando dados faltantes por None"
   ]
  },
  {
   "cell_type": "code",
   "execution_count": 62,
   "metadata": {},
   "outputs": [],
   "source": [
    "data['Medication Usage'].fillna('None', inplace=True)\n",
    "data['Medical History'].fillna('None', inplace=True)"
   ]
  },
  {
   "cell_type": "code",
   "execution_count": 63,
   "metadata": {},
   "outputs": [
    {
     "name": "stdout",
     "output_type": "stream",
     "text": [
      "<class 'pandas.core.frame.DataFrame'>\n",
      "RangeIndex: 10000 entries, 0 to 9999\n",
      "Data columns (total 17 columns):\n",
      " #   Column                                      Non-Null Count  Dtype  \n",
      "---  ------                                      --------------  -----  \n",
      " 0   Patient ID                                  10000 non-null  int64  \n",
      " 1   Age                                         10000 non-null  int64  \n",
      " 2   Gender                                      10000 non-null  object \n",
      " 3   Visual Acuity Measurements                  10000 non-null  object \n",
      " 4   Intraocular Pressure (IOP)                  10000 non-null  float64\n",
      " 5   Cup-to-Disc Ratio (CDR)                     10000 non-null  float64\n",
      " 6   Family History                              10000 non-null  object \n",
      " 7   Medical History                             10000 non-null  object \n",
      " 8   Medication Usage                            10000 non-null  object \n",
      " 9   Visual Field Test Results                   10000 non-null  object \n",
      " 10  Optical Coherence Tomography (OCT) Results  10000 non-null  object \n",
      " 11  Pachymetry                                  10000 non-null  float64\n",
      " 12  Cataract Status                             10000 non-null  object \n",
      " 13  Angle Closure Status                        10000 non-null  object \n",
      " 14  Visual Symptoms                             10000 non-null  object \n",
      " 15  Diagnosis                                   10000 non-null  object \n",
      " 16  Glaucoma Type                               10000 non-null  object \n",
      "dtypes: float64(3), int64(2), object(12)\n",
      "memory usage: 1.3+ MB\n"
     ]
    }
   ],
   "source": [
    "data.info()"
   ]
  },
  {
   "cell_type": "markdown",
   "metadata": {},
   "source": [
    "Separando a feature \"Medication Usage\" em features booleanas"
   ]
  },
  {
   "cell_type": "code",
   "execution_count": 64,
   "metadata": {},
   "outputs": [],
   "source": [
    "for item in medications:\n",
    "    data[item] = data['Medication Usage'].str.contains(item).astype(int)\n",
    "\n",
    "data = data.drop('Medication Usage', axis=1)"
   ]
  },
  {
   "cell_type": "code",
   "execution_count": 65,
   "metadata": {},
   "outputs": [],
   "source": [
    "visual_symptoms = set()\n",
    "for item in data['Visual Symptoms']:\n",
    "    try:\n",
    "        visual_symptoms.update(item.split(', '))\n",
    "    except AttributeError:\n",
    "        pass"
   ]
  },
  {
   "cell_type": "code",
   "execution_count": 66,
   "metadata": {},
   "outputs": [
    {
     "data": {
      "text/plain": [
       "{'Blurred vision',\n",
       " 'Eye pain',\n",
       " 'Halos around lights',\n",
       " 'Nausea',\n",
       " 'Redness in the eye',\n",
       " 'Tunnel vision',\n",
       " 'Vision loss',\n",
       " 'Vomiting'}"
      ]
     },
     "execution_count": 66,
     "metadata": {},
     "output_type": "execute_result"
    }
   ],
   "source": [
    "visual_symptoms"
   ]
  },
  {
   "cell_type": "code",
   "execution_count": 67,
   "metadata": {},
   "outputs": [],
   "source": [
    "for item in medications:\n",
    "    data[item] = data['Visual Symptoms'].str.contains(item).astype(int)\n",
    "\n",
    "data = data.drop('Visual Symptoms', axis=1)"
   ]
  },
  {
   "cell_type": "code",
   "execution_count": 68,
   "metadata": {},
   "outputs": [
    {
     "data": {
      "text/plain": [
       "Glaucoma Type\n",
       "Juvenile Glaucoma              1734\n",
       "Normal-Tension Glaucoma        1699\n",
       "Primary Open-Angle Glaucoma    1668\n",
       "Secondary Glaucoma             1657\n",
       "Congenital Glaucoma            1641\n",
       "Angle-Closure Glaucoma         1601\n",
       "Name: count, dtype: int64"
      ]
     },
     "execution_count": 68,
     "metadata": {},
     "output_type": "execute_result"
    }
   ],
   "source": [
    "data['Glaucoma Type'].value_counts()"
   ]
  },
  {
   "cell_type": "markdown",
   "metadata": {},
   "source": [
    "Separando a coluna \"Visual Field Test Results\" em \"VFTR Sensitivity\" e \"VFTR Specificity\""
   ]
  },
  {
   "cell_type": "code",
   "execution_count": 78,
   "metadata": {},
   "outputs": [],
   "source": [
    "#Separa a coluna 'Visual Field Test Results' em \"VFTR Sensitivity\" e \"VFTR Specificity\"\n",
    "data[['VFTR Sensitivity', 'VFTR Specificity']] = data['Visual Field Test Results'].str.split(',', expand=True)\n",
    "data['VFTR Sensitivity'] = data['VFTR Sensitivity'].str.replace('Sensitivity: ', '').astype(float)\n",
    "data['VFTR Specificity'] = data['VFTR Specificity'].str.replace('Specificity: ', '').astype(float)\n",
    "data = data.drop('Visual Field Test Results', axis=1)"
   ]
  },
  {
   "cell_type": "code",
   "execution_count": 82,
   "metadata": {},
   "outputs": [
    {
     "name": "stdout",
     "output_type": "stream",
     "text": [
      "RNFL Thickness: 86.48 µm, GCC Thickness: 64.14 µm, Retinal Volume: 5.63 mm³, Macular Thickness: 283.67 µm\n"
     ]
    }
   ],
   "source": [
    "for item in data[\"Optical Coherence Tomography (OCT) Results\"]:\n",
    "    print(item)\n",
    "    break"
   ]
  },
  {
   "cell_type": "markdown",
   "metadata": {},
   "source": [
    "Separando a coluna \"Optical Coherence Tomography (OCT) Results\" em \"RNFL Thickness\", \"GCC Thickness\", \"Retinal Volume\" e \"Macular Thickness\""
   ]
  },
  {
   "cell_type": "code",
   "execution_count": 97,
   "metadata": {},
   "outputs": [],
   "source": [
    "data[['RNFL Thickness', 'GCC Thickness', 'Retinal Volume', 'Macular Thickness']] = data['Optical Coherence Tomography (OCT) Results'].str.split(',', expand=True)\n",
    "\n",
    "data['RNFL Thickness'] = data['RNFL Thickness'].str.replace('RNFL Thickness: ', '')\n",
    "data['RNFL Thickness'] = data['RNFL Thickness'].str.replace('µm', '').astype(float)\n",
    "data['GCC Thickness'] = data['GCC Thickness'].str.replace('GCC Thickness: ', '')\n",
    "data['GCC Thickness'] = data['GCC Thickness'].str.replace('µm', '').astype(float)\n",
    "data['Retinal Volume'] = data['Retinal Volume'].str.replace('Retinal Volume: ', '')\n",
    "data['Retinal Volume'] = data['Retinal Volume'].str.replace('mm³', '').astype(float)\n",
    "data['Macular Thickness'] = data['Macular Thickness'].str.replace('Macular Thickness: ', '')\n",
    "data['Macular Thickness'] = data['Macular Thickness'].str.replace('µm', '').astype(float)\n",
    "\n",
    "data = data.drop('Optical Coherence Tomography (OCT) Results', axis=1)"
   ]
  },
  {
   "cell_type": "code",
   "execution_count": 98,
   "metadata": {},
   "outputs": [
    {
     "data": {
      "text/html": [
       "<div>\n",
       "<style scoped>\n",
       "    .dataframe tbody tr th:only-of-type {\n",
       "        vertical-align: middle;\n",
       "    }\n",
       "\n",
       "    .dataframe tbody tr th {\n",
       "        vertical-align: top;\n",
       "    }\n",
       "\n",
       "    .dataframe thead th {\n",
       "        text-align: right;\n",
       "    }\n",
       "</style>\n",
       "<table border=\"1\" class=\"dataframe\">\n",
       "  <thead>\n",
       "    <tr style=\"text-align: right;\">\n",
       "      <th></th>\n",
       "      <th>Patient ID</th>\n",
       "      <th>Age</th>\n",
       "      <th>Gender</th>\n",
       "      <th>Visual Acuity Measurements</th>\n",
       "      <th>Intraocular Pressure (IOP)</th>\n",
       "      <th>Cup-to-Disc Ratio (CDR)</th>\n",
       "      <th>Family History</th>\n",
       "      <th>Medical History</th>\n",
       "      <th>Pachymetry</th>\n",
       "      <th>Cataract Status</th>\n",
       "      <th>...</th>\n",
       "      <th>Metformin</th>\n",
       "      <th>Lisinopril</th>\n",
       "      <th>Amoxicillin</th>\n",
       "      <th>Atorvastatin</th>\n",
       "      <th>VFTR Sensitivity</th>\n",
       "      <th>VFTR Specificity</th>\n",
       "      <th>RNFL Thickness</th>\n",
       "      <th>GCC Thickness</th>\n",
       "      <th>Retinal Volume</th>\n",
       "      <th>Macular Thickness</th>\n",
       "    </tr>\n",
       "  </thead>\n",
       "  <tbody>\n",
       "    <tr>\n",
       "      <th>0</th>\n",
       "      <td>62431</td>\n",
       "      <td>69</td>\n",
       "      <td>Male</td>\n",
       "      <td>LogMAR 0.1</td>\n",
       "      <td>19.46</td>\n",
       "      <td>0.42</td>\n",
       "      <td>No</td>\n",
       "      <td>Diabetes</td>\n",
       "      <td>541.51</td>\n",
       "      <td>Present</td>\n",
       "      <td>...</td>\n",
       "      <td>0</td>\n",
       "      <td>0</td>\n",
       "      <td>0</td>\n",
       "      <td>0</td>\n",
       "      <td>0.54</td>\n",
       "      <td>0.75</td>\n",
       "      <td>86.48</td>\n",
       "      <td>64.14</td>\n",
       "      <td>5.63</td>\n",
       "      <td>283.67</td>\n",
       "    </tr>\n",
       "    <tr>\n",
       "      <th>1</th>\n",
       "      <td>68125</td>\n",
       "      <td>69</td>\n",
       "      <td>Female</td>\n",
       "      <td>LogMAR 0.1</td>\n",
       "      <td>18.39</td>\n",
       "      <td>0.72</td>\n",
       "      <td>No</td>\n",
       "      <td>Hypertension</td>\n",
       "      <td>552.77</td>\n",
       "      <td>Absent</td>\n",
       "      <td>...</td>\n",
       "      <td>0</td>\n",
       "      <td>0</td>\n",
       "      <td>0</td>\n",
       "      <td>0</td>\n",
       "      <td>0.72</td>\n",
       "      <td>0.88</td>\n",
       "      <td>96.88</td>\n",
       "      <td>56.48</td>\n",
       "      <td>5.69</td>\n",
       "      <td>261.48</td>\n",
       "    </tr>\n",
       "    <tr>\n",
       "      <th>2</th>\n",
       "      <td>63329</td>\n",
       "      <td>67</td>\n",
       "      <td>Female</td>\n",
       "      <td>20/40</td>\n",
       "      <td>23.65</td>\n",
       "      <td>0.72</td>\n",
       "      <td>No</td>\n",
       "      <td>Hypertension</td>\n",
       "      <td>573.65</td>\n",
       "      <td>Absent</td>\n",
       "      <td>...</td>\n",
       "      <td>0</td>\n",
       "      <td>0</td>\n",
       "      <td>0</td>\n",
       "      <td>0</td>\n",
       "      <td>0.56</td>\n",
       "      <td>0.80</td>\n",
       "      <td>89.81</td>\n",
       "      <td>59.05</td>\n",
       "      <td>5.96</td>\n",
       "      <td>282.34</td>\n",
       "    </tr>\n",
       "    <tr>\n",
       "      <th>3</th>\n",
       "      <td>47174</td>\n",
       "      <td>23</td>\n",
       "      <td>Male</td>\n",
       "      <td>LogMAR 0.0</td>\n",
       "      <td>18.04</td>\n",
       "      <td>0.61</td>\n",
       "      <td>No</td>\n",
       "      <td>None</td>\n",
       "      <td>590.67</td>\n",
       "      <td>Absent</td>\n",
       "      <td>...</td>\n",
       "      <td>0</td>\n",
       "      <td>0</td>\n",
       "      <td>0</td>\n",
       "      <td>0</td>\n",
       "      <td>0.60</td>\n",
       "      <td>0.93</td>\n",
       "      <td>87.25</td>\n",
       "      <td>63.98</td>\n",
       "      <td>6.44</td>\n",
       "      <td>262.86</td>\n",
       "    </tr>\n",
       "    <tr>\n",
       "      <th>4</th>\n",
       "      <td>67361</td>\n",
       "      <td>21</td>\n",
       "      <td>Male</td>\n",
       "      <td>LogMAR 0.1</td>\n",
       "      <td>15.87</td>\n",
       "      <td>0.30</td>\n",
       "      <td>No</td>\n",
       "      <td>Diabetes</td>\n",
       "      <td>588.41</td>\n",
       "      <td>Absent</td>\n",
       "      <td>...</td>\n",
       "      <td>0</td>\n",
       "      <td>0</td>\n",
       "      <td>0</td>\n",
       "      <td>0</td>\n",
       "      <td>0.82</td>\n",
       "      <td>0.90</td>\n",
       "      <td>82.61</td>\n",
       "      <td>66.01</td>\n",
       "      <td>6.16</td>\n",
       "      <td>261.78</td>\n",
       "    </tr>\n",
       "  </tbody>\n",
       "</table>\n",
       "<p>5 rows × 26 columns</p>\n",
       "</div>"
      ],
      "text/plain": [
       "   Patient ID  Age  Gender Visual Acuity Measurements  \\\n",
       "0       62431   69    Male                 LogMAR 0.1   \n",
       "1       68125   69  Female                 LogMAR 0.1   \n",
       "2       63329   67  Female                      20/40   \n",
       "3       47174   23    Male                 LogMAR 0.0   \n",
       "4       67361   21    Male                 LogMAR 0.1   \n",
       "\n",
       "   Intraocular Pressure (IOP)  Cup-to-Disc Ratio (CDR) Family History  \\\n",
       "0                       19.46                     0.42             No   \n",
       "1                       18.39                     0.72             No   \n",
       "2                       23.65                     0.72             No   \n",
       "3                       18.04                     0.61             No   \n",
       "4                       15.87                     0.30             No   \n",
       "\n",
       "  Medical History  Pachymetry Cataract Status  ... Metformin Lisinopril  \\\n",
       "0        Diabetes      541.51         Present  ...         0          0   \n",
       "1    Hypertension      552.77          Absent  ...         0          0   \n",
       "2    Hypertension      573.65          Absent  ...         0          0   \n",
       "3            None      590.67          Absent  ...         0          0   \n",
       "4        Diabetes      588.41          Absent  ...         0          0   \n",
       "\n",
       "  Amoxicillin  Atorvastatin  VFTR Sensitivity  VFTR Specificity  \\\n",
       "0           0             0              0.54              0.75   \n",
       "1           0             0              0.72              0.88   \n",
       "2           0             0              0.56              0.80   \n",
       "3           0             0              0.60              0.93   \n",
       "4           0             0              0.82              0.90   \n",
       "\n",
       "   RNFL Thickness  GCC Thickness  Retinal Volume  Macular Thickness  \n",
       "0           86.48          64.14            5.63             283.67  \n",
       "1           96.88          56.48            5.69             261.48  \n",
       "2           89.81          59.05            5.96             282.34  \n",
       "3           87.25          63.98            6.44             262.86  \n",
       "4           82.61          66.01            6.16             261.78  \n",
       "\n",
       "[5 rows x 26 columns]"
      ]
     },
     "execution_count": 98,
     "metadata": {},
     "output_type": "execute_result"
    }
   ],
   "source": [
    "data.head()"
   ]
  }
 ],
 "metadata": {
  "kernelspec": {
   "display_name": "glaucoma",
   "language": "python",
   "name": "python3"
  },
  "language_info": {
   "codemirror_mode": {
    "name": "ipython",
    "version": 3
   },
   "file_extension": ".py",
   "mimetype": "text/x-python",
   "name": "python",
   "nbconvert_exporter": "python",
   "pygments_lexer": "ipython3",
   "version": "3.11.5"
  }
 },
 "nbformat": 4,
 "nbformat_minor": 2
}
